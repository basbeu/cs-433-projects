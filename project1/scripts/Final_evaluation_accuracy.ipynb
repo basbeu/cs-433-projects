{
 "cells": [
  {
   "cell_type": "markdown",
   "metadata": {},
   "source": [
    "# Higgs Boson detection"
   ]
  },
  {
   "cell_type": "code",
   "execution_count": 29,
   "metadata": {},
   "outputs": [
    {
     "name": "stdout",
     "output_type": "stream",
     "text": [
      "The autoreload extension is already loaded. To reload it, use:\n",
      "  %reload_ext autoreload\n"
     ]
    }
   ],
   "source": [
    "%matplotlib inline\n",
    "import numpy as np\n",
    "import numpy.linalg as la\n",
    "import matplotlib.pyplot as plt\n",
    "from expansion import *\n",
    "%load_ext autoreload\n",
    "%autoreload 2\n",
    "import pandas as pd\n",
    "from IPython.display import display\n",
    "from proj1_helpers import *"
   ]
  },
  {
   "cell_type": "markdown",
   "metadata": {},
   "source": [
    "## Data parsing/cleaning"
   ]
  },
  {
   "cell_type": "code",
   "execution_count": 30,
   "metadata": {},
   "outputs": [],
   "source": [
    "pri0_to_drop = [\"DER_deltaeta_jet_jet\",\"DER_mass_jet_jet\",\"DER_prodeta_jet_jet\",\"DER_lep_eta_centrality\",\"PRI_jet_leading_pt\",\"PRI_jet_leading_eta\",\"PRI_jet_leading_phi\",\"PRI_jet_subleading_pt\",\"PRI_jet_subleading_eta\",\"PRI_jet_subleading_phi\"]\n",
    "pri1_to_drop = [\"DER_deltaeta_jet_jet\",\"DER_mass_jet_jet\",\"DER_prodeta_jet_jet\",\"DER_lep_eta_centrality\",\"PRI_jet_subleading_pt\",\"PRI_jet_subleading_eta\",\"PRI_jet_subleading_phi\"]"
   ]
  },
  {
   "cell_type": "code",
   "execution_count": 60,
   "metadata": {},
   "outputs": [],
   "source": [
    "DATA_TRAIN_PATH = '../data/train.csv'\n",
    "hb = pd.read_csv(DATA_TRAIN_PATH, sep=',')\n",
    "pd.options.display.max_columns = None\n",
    "hb = hb.drop(['Id'], 1)\n",
    "\n",
    "def cleanDataSet(dataset):\n",
    "    #dataset = add_DER_mass_indicator(dataset)\n",
    "    dataset_mass_def = dataset[dataset.DER_mass_MMC != -999].copy()\n",
    "    dataset_mass_not_def = dataset[dataset.DER_mass_MMC == -999].copy()\n",
    "    dataset_mass_not_def = dataset_mass_not_def.drop(['DER_mass_MMC'],1)\n",
    "    def splitOnJetNum(dataset, DER_mass_MMC_is_defined):\n",
    "        dataset = dataset.replace(-999, np.nan)\n",
    "        if(DER_mass_MMC_is_defined):\n",
    "            dataset = nonPolyFeatureExpansion(dataset)\n",
    "\n",
    "\n",
    "        pri0 = dataset[dataset.PRI_jet_num==0].copy()\n",
    "        pri0 = pri0.drop(pri0_to_drop,1)\n",
    "        pri0 = pri0.drop([\"PRI_jet_num\",\"PRI_jet_all_pt\"],1)\n",
    "\n",
    "        pri1 = dataset[dataset.PRI_jet_num == 1].copy()\n",
    "        pri1 = pri1.drop(pri1_to_drop,1)\n",
    "        pri1 = pri1.drop([\"PRI_jet_num\"],1)\n",
    "\n",
    "        pri2 = dataset[dataset.PRI_jet_num == 2].copy()\n",
    "        pri2 = pri2.drop([\"PRI_jet_num\"],1)\n",
    "\n",
    "        pri3 = dataset[dataset.PRI_jet_num == 3].copy()\n",
    "        pri3 = pri3.drop([\"PRI_jet_num\"],1)\n",
    "\n",
    "        return [pri0,pri1,pd.concat([pri2,pri3])]\n",
    "        #return [pri0,pri1,pri2,pri3]\n",
    "    \n",
    "    return splitOnJetNum(dataset_mass_def, True) + splitOnJetNum(dataset_mass_not_def, False)\n",
    "    #return splitOnJetNum(dataset,False)\n",
    "\n",
    "def extractPredictions(dataset):\n",
    "    return dataset.Prediction.apply(lambda x: -1 if x == 'b' else 1).to_numpy()\n",
    "\n",
    "def add_DER_mass_indicator(data):\n",
    "    data['DER_mass_MMC_present'] = (data.DER_mass_MMC == -999).apply(lambda x : 1 if x else 0)\n",
    "    return data\n",
    "\n",
    "def nonPolyFeatureExpansion(data):\n",
    "    data['Mass_let_tau_sum_pt_ratio'] = data.DER_mass_MMC * data.DER_pt_ratio_lep_tau / (data.DER_sum_pt+1e-10)\n",
    "    return data\n",
    "\n",
    "def normalizeDataset(dataset):\n",
    "    dataset = (dataset - dataset.mean()) / dataset.std()\n",
    "    dataset = dataset.fillna(0)\n",
    "    dataset = (dataset - dataset.mean()) / dataset.std()\n",
    "    return dataset\n",
    "\n",
    "def normalizeDataset_numpy(dataset):\n",
    "    dataset = (dataset - dataset.mean(axis=0)) / dataset.std(axis=0)\n",
    "    dataset = np.nan_to_num(dataset)\n",
    "    dataset = (dataset - dataset.mean(axis=0)) / dataset.std(axis = 0)\n",
    "    return dataset\n",
    "\n",
    "def tildaNumpy(X):\n",
    "    return np.c_[np.ones(X.shape[0]), X]\n",
    "\n",
    "POLYNOMIAL_EXPANSION_DEGREE = 5\n",
    "\n",
    "tx = cleanDataSet(hb)\n",
    "y = []\n",
    "\n",
    "from sklearn.model_selection import train_test_split\n",
    "tx_test = []\n",
    "y_test = []\n",
    "\n",
    "for idx, dataset in enumerate(tx):\n",
    "    y_temp = extractPredictions(dataset)\n",
    "    dataset = dataset.drop(['Prediction'],1)\n",
    "    tx_temp = tildaNumpy(normalizeDataset_numpy(polynomial_expansion( normalizeDataset(dataset).to_numpy(), POLYNOMIAL_EXPANSION_DEGREE)))\n",
    "    X_train, X_test, y_train, y_test_temp = train_test_split(tx_temp, y_temp, test_size=0.1, random_state=0)    \n",
    "    \n",
    "    y.append(y_train)\n",
    "    tx[idx] = X_train\n",
    "    tx_test.append(X_test)\n",
    "    y_test.append(y_test_temp)"
   ]
  },
  {
   "cell_type": "code",
   "execution_count": 61,
   "metadata": {},
   "outputs": [],
   "source": [
    "from implementations import *\n",
    "\n",
    "number_of_algorithms = 6\n",
    "\n",
    "w = []\n",
    "for i in range(number_of_algorithms):\n",
    "    w.append([])\n",
    "\n",
    "initial_w = [np.zeros(txi.shape[1]) for txi in tx]"
   ]
  },
  {
   "cell_type": "markdown",
   "metadata": {},
   "source": [
    "## Algorithms"
   ]
  },
  {
   "cell_type": "code",
   "execution_count": 37,
   "metadata": {},
   "outputs": [],
   "source": [
    "%%capture\n",
    "from tqdm import tqdm_notebook as tqdm\n",
    "tqdm().pandas()"
   ]
  },
  {
   "cell_type": "markdown",
   "metadata": {},
   "source": [
    "### 0. Least squares gradient descent"
   ]
  },
  {
   "cell_type": "code",
   "execution_count": 39,
   "metadata": {},
   "outputs": [
    {
     "data": {
      "application/vnd.jupyter.widget-view+json": {
       "model_id": "5050b30f966545bb97fdce4ec1385ecf",
       "version_major": 2,
       "version_minor": 0
      },
      "text/plain": [
       "HBox(children=(IntProgress(value=0, max=4), HTML(value='')))"
      ]
     },
     "metadata": {},
     "output_type": "display_data"
    },
    {
     "name": "stdout",
     "output_type": "stream",
     "text": [
      "0.28866741545340935\n",
      "0.38855698857060006\n",
      "0.37529542153121953\n",
      "0.38374748801607367\n",
      "\n"
     ]
    }
   ],
   "source": [
    "algorithm = 0\n",
    "w[algorithm] = []\n",
    "for i, (yi, txi, wi) in enumerate(zip(tqdm(y), tx, initial_w)):\n",
    "    local_w, loss = least_squares_GD(yi, txi, wi, 1000, 1e-3)\n",
    "    w[algorithm].append(local_w)\n",
    "    print(loss)"
   ]
  },
  {
   "cell_type": "markdown",
   "metadata": {},
   "source": [
    "### 1. Least squares stochastic gradient descent"
   ]
  },
  {
   "cell_type": "code",
   "execution_count": 40,
   "metadata": {},
   "outputs": [
    {
     "data": {
      "application/vnd.jupyter.widget-view+json": {
       "model_id": "976de947de0b473c8069daaff45eec8d",
       "version_major": 2,
       "version_minor": 0
      },
      "text/plain": [
       "HBox(children=(IntProgress(value=0, max=4), HTML(value='')))"
      ]
     },
     "metadata": {},
     "output_type": "display_data"
    },
    {
     "name": "stdout",
     "output_type": "stream",
     "text": [
      "0.2886497657352685\n",
      "0.3885346476438921\n",
      "0.37527401038973657\n",
      "0.38368942684519397\n",
      "\n"
     ]
    }
   ],
   "source": [
    "algorithm = 1\n",
    "w[algorithm] = []\n",
    "for yi, txi, wi in zip(tqdm(y), tx, initial_w):\n",
    "    local_w, loss = least_squares_SGD(yi, txi, wi, 100000, 1e-3)\n",
    "    w[algorithm].append(local_w)\n",
    "    print(loss)"
   ]
  },
  {
   "cell_type": "markdown",
   "metadata": {},
   "source": [
    "### 2. Least squares"
   ]
  },
  {
   "cell_type": "code",
   "execution_count": 41,
   "metadata": {},
   "outputs": [
    {
     "data": {
      "application/vnd.jupyter.widget-view+json": {
       "model_id": "85337c017484454089a19c723ed61ac1",
       "version_major": 2,
       "version_minor": 0
      },
      "text/plain": [
       "HBox(children=(IntProgress(value=0, max=4), HTML(value='')))"
      ]
     },
     "metadata": {},
     "output_type": "display_data"
    },
    {
     "name": "stdout",
     "output_type": "stream",
     "text": [
      "cond 3304052329982.5425\n",
      "0.2721585490443791\n",
      "cond 5475135819655.621\n",
      "0.37249096641402485\n",
      "cond 340026078557.0272\n",
      "0.3567155826060113\n",
      "cond 731623006262.9072\n",
      "0.3600561153528021\n",
      "\n"
     ]
    }
   ],
   "source": [
    "algorithm = 2\n",
    "w[algorithm] = []\n",
    "for yi, txi in zip(tqdm(y), tx):\n",
    "    print(\"cond \" + str(np.linalg.cond(txi.T @ txi)))\n",
    "    local_w, loss = least_squares(yi, txi)\n",
    "    w[algorithm].append(local_w)\n",
    "    print(loss)"
   ]
  },
  {
   "cell_type": "markdown",
   "metadata": {},
   "source": [
    "### 3. Ridge regression"
   ]
  },
  {
   "cell_type": "code",
   "execution_count": 85,
   "metadata": {
    "scrolled": false
   },
   "outputs": [
    {
     "data": {
      "application/vnd.jupyter.widget-view+json": {
       "model_id": "efb2140e082b4823b041757093590f5c",
       "version_major": 2,
       "version_minor": 0
      },
      "text/plain": [
       "HBox(children=(IntProgress(value=0, max=40), HTML(value='')))"
      ]
     },
     "metadata": {},
     "output_type": "display_data"
    },
    {
     "name": "stdout",
     "output_type": "stream",
     "text": [
      "\n",
      "0.003888155180308085\n"
     ]
    },
    {
     "data": {
      "image/png": "[encoded data removed]",
      "text/plain": [
       "<Figure size 432x288 with 1 Axes>"
      ]
     },
     "metadata": {},
     "output_type": "display_data"
    },
    {
     "data": {
      "application/vnd.jupyter.widget-view+json": {
       "model_id": "cae165a1cfeb4bbd8e0ca31eecfba662",
       "version_major": 2,
       "version_minor": 0
      },
      "text/plain": [
       "HBox(children=(IntProgress(value=0, max=40), HTML(value='')))"
      ]
     },
     "metadata": {},
     "output_type": "display_data"
    },
    {
     "name": "stdout",
     "output_type": "stream",
     "text": [
      "\n",
      "4.641588833612772e-05\n"
     ]
    },
    {
     "data": {
      "image/png": "[encoded data removed]",
      "text/plain": [
       "<Figure size 432x288 with 1 Axes>"
      ]
     },
     "metadata": {},
     "output_type": "display_data"
    },
    {
     "data": {
      "application/vnd.jupyter.widget-view+json": {
       "model_id": "3d56392243bd4ed3aeddfa1f38672034",
       "version_major": 2,
       "version_minor": 0
      },
      "text/plain": [
       "HBox(children=(IntProgress(value=0, max=40), HTML(value='')))"
      ]
     },
     "metadata": {},
     "output_type": "display_data"
    },
    {
     "name": "stdout",
     "output_type": "stream",
     "text": [
      "\n",
      "0.00010608183551394483\n"
     ]
    },
    {
     "data": {
      "image/png": "[encoded data removed]",
      "text/plain": [
       "<Figure size 432x288 with 1 Axes>"
      ]
     },
     "metadata": {},
     "output_type": "display_data"
    },
    {
     "data": {
      "application/vnd.jupyter.widget-view+json": {
       "model_id": "99165c655fb942a8bbc41411c7479be9",
       "version_major": 2,
       "version_minor": 0
      },
      "text/plain": [
       "HBox(children=(IntProgress(value=0, max=40), HTML(value='')))"
      ]
     },
     "metadata": {},
     "output_type": "display_data"
    },
    {
     "name": "stdout",
     "output_type": "stream",
     "text": [
      "\n",
      "8.376776400682924e-05\n"
     ]
    },
    {
     "data": {
      "image/png": "[encoded data removed]",
      "text/plain": [
       "<Figure size 432x288 with 1 Axes>"
      ]
     },
     "metadata": {},
     "output_type": "display_data"
    },
    {
     "data": {
      "application/vnd.jupyter.widget-view+json": {
       "model_id": "c555bc18b8634a5eba546afa64f3a2f5",
       "version_major": 2,
       "version_minor": 0
      },
      "text/plain": [
       "HBox(children=(IntProgress(value=0, max=40), HTML(value='')))"
      ]
     },
     "metadata": {},
     "output_type": "display_data"
    },
    {
     "name": "stdout",
     "output_type": "stream",
     "text": [
      "\n",
      "0.0058780160722749115\n"
     ]
    },
    {
     "data": {
      "image/png": "[encoded data removed]",
      "text/plain": [
       "<Figure size 432x288 with 1 Axes>"
      ]
     },
     "metadata": {},
     "output_type": "display_data"
    },
    {
     "data": {
      "application/vnd.jupyter.widget-view+json": {
       "model_id": "959c0d8e7b9e4dabacf972d5616d3802",
       "version_major": 2,
       "version_minor": 0
      },
      "text/plain": [
       "HBox(children=(IntProgress(value=0, max=40), HTML(value='')))"
      ]
     },
     "metadata": {},
     "output_type": "display_data"
    },
    {
     "name": "stdout",
     "output_type": "stream",
     "text": [
      "\n",
      "0.011937766417144358\n"
     ]
    },
    {
     "data": {
      "image/png": "[encoded data removed]",
      "text/plain": [
       "<Figure size 432x288 with 1 Axes>"
      ]
     },
     "metadata": {},
     "output_type": "display_data"
    }
   ],
   "source": [
    "from plots import *\n",
    "\n",
    "ridge_parameters = []\n",
    "\n",
    "def build_k_indices(y, k_fold, seed):\n",
    "    \"\"\"build k indices for k-fold.\"\"\"\n",
    "    num_row = y.shape[0]\n",
    "    interval = int(num_row / k_fold)\n",
    "    np.random.seed(seed)\n",
    "    indices = np.random.permutation(num_row)\n",
    "    k_indices = [indices[k * interval: (k + 1) * interval]\n",
    "                 for k in range(k_fold)]\n",
    "    return np.array(k_indices)\n",
    "\n",
    "def cross_validation(y, x, k_indices, k, lambda_):\n",
    "    \"\"\"return the loss of ridge regression.\"\"\"\n",
    "\n",
    "    x_tr = np.delete(x, k_indices[k], axis=0)\n",
    "    y_tr = np.delete(y, k_indices[k], axis=0)\n",
    "    \n",
    "    x_te = x[k_indices[k]]\n",
    "    y_te = y[k_indices[k]]\n",
    "    w, rmse = ridge_regression(y_tr, x_tr, lambda_)\n",
    "    \n",
    "    n = y.shape[0]\n",
    "    loss_tr = rmse\n",
    "    loss_te = compute_loss_rmse(2*n , compute_e(y_te, x_te, w))\n",
    "    return loss_tr, loss_te\n",
    "    \n",
    "def cross_validation_demo(i):\n",
    "    seed = 2019\n",
    "    k_fold = 10\n",
    "    lambdas = np.logspace(-6, -1, 40)\n",
    "    '''if i == 0:\n",
    "        lambdas = np.logspace(-3, -2, 30)\n",
    "    elif i == 1:\n",
    "        lambdas = np.logspace(-3, -2, 30)\n",
    "    elif i == 2:\n",
    "        lambdas = np.logspace(-4, -3, 30)\n",
    "    elif i == 3:\n",
    "        lambdas = np.logspace(-2, -1, 30)\n",
    "    elif i == 4:\n",
    "        lambdas = np.logspace(-3, -2, 30)\n",
    "    elif i == 5:\n",
    "        lambdas = np.logspace(-2, -1, 30)'''\n",
    "    if i == 0:\n",
    "        lambdas = np.logspace(-6, -1, 40)\n",
    "    elif i == 1:\n",
    "        lambdas = np.logspace(-6, -1, 40)\n",
    "    elif i == 2:\n",
    "        lambdas = np.logspace(-5, -1, 40)\n",
    "    elif i == 3:\n",
    "        lambdas = np.logspace(-5, -1, 40)\n",
    "    elif i == 4:\n",
    "        lambdas = np.logspace(-5, -2, 40)\n",
    "    elif i == 5:\n",
    "        lambdas = np.logspace(-5, -1, 40)\n",
    "    \n",
    "    yex = y[i][:,np.newaxis]\n",
    "    x = tx[i]\n",
    "    \n",
    "    # split data in k fold\n",
    "    k_indices = build_k_indices(yex, k_fold, seed)\n",
    "    # define lists to store the loss of training data and test data\n",
    "    rmse_tr = []\n",
    "    rmse_te = []\n",
    "    var_tr = []\n",
    "    var_te = []\n",
    "    \n",
    "    for lambda_ in tqdm(lambdas):\n",
    "        loss_tr = []\n",
    "        loss_te = []\n",
    "        for k in range(k_fold):\n",
    "            tr, te = cross_validation(yex, x, k_indices, k, lambda_)\n",
    "            loss_tr.append(tr)\n",
    "            loss_te.append(te)\n",
    "        rmse_tr.append(np.mean(loss_tr))\n",
    "        rmse_te.append(np.mean(loss_te))\n",
    "        var_tr.append(np.std(loss_tr))\n",
    "        var_te.append(np.std(loss_te))\n",
    "    optimal = lambdas[np.argmin(rmse_te)]\n",
    "    print(optimal)\n",
    "    ridge_parameters.append(optimal)\n",
    "    cross_validation_visualization(lambdas, rmse_tr, rmse_te, var_tr, var_te)\n",
    "\n",
    "for i in range(len(tx)):\n",
    "    cross_validation_demo(i)"
   ]
  },
  {
   "cell_type": "code",
   "execution_count": 91,
   "metadata": {},
   "outputs": [
    {
     "data": {
      "application/vnd.jupyter.widget-view+json": {
       "model_id": "ff4527fb9f5e42d58847a1d3f4050d60",
       "version_major": 2,
       "version_minor": 0
      },
      "text/plain": [
       "HBox(children=(IntProgress(value=1, bar_style='info', max=1), HTML(value='')))"
      ]
     },
     "metadata": {},
     "output_type": "display_data"
    },
    {
     "name": "stdout",
     "output_type": "stream",
     "text": [
      "0.7572781368621017\n",
      "0.8082229460128558\n",
      "0.7745100001622608\n",
      "0.40892644809575\n",
      "0.5148967272869694\n",
      "0.5380006786071643\n",
      "\n"
     ]
    }
   ],
   "source": [
    "algorithm = 3\n",
    "w[algorithm] = []\n",
    "for yi, txi, ridge_parameter in tqdm(zip(y, tx, ridge_parameters)):\n",
    "    local_w, loss = ridge_regression(yi, txi, ridge_parameter)\n",
    "    w[algorithm].append(local_w)\n",
    "    print(loss)"
   ]
  },
  {
   "cell_type": "code",
   "execution_count": 92,
   "metadata": {},
   "outputs": [
    {
     "name": "stdout",
     "output_type": "stream",
     "text": [
      "0.7572781368621017\n",
      "0.8082229460128558\n",
      "0.7745100001622608\n",
      "0.40892644809575\n",
      "0.5148967272869694\n",
      "0.5380006786071643\n"
     ]
    }
   ],
   "source": [
    "algorithm = 3\n",
    "w[algorithm] = []\n",
    "for yi, txi, ridge_parameter in zip(y, tx, ridge_parameters):\n",
    "    local_w, loss = ridge_regression(yi, txi, ridge_parameter)\n",
    "    w[algorithm].append(local_w)\n",
    "    print(loss)"
   ]
  },
  {
   "cell_type": "code",
   "execution_count": 93,
   "metadata": {},
   "outputs": [
    {
     "name": "stdout",
     "output_type": "stream",
     "text": [
      "0.8153821541415031\n"
     ]
    }
   ],
   "source": [
    "output_algo = 3\n",
    "accuracy_by_pri = []\n",
    "for dataset_id in range(len(y_test)):\n",
    "    accuracy_by_pri.append(accuracy(y_test[dataset_id],w[output_algo][dataset_id],tx_test[dataset_id]))\n",
    "    \n",
    "print(calc_weighted_mean(accuracy_by_pri))"
   ]
  },
  {
   "cell_type": "markdown",
   "metadata": {},
   "source": [
    "### 4. Logistic regression"
   ]
  },
  {
   "cell_type": "code",
   "execution_count": 48,
   "metadata": {},
   "outputs": [
    {
     "data": {
      "application/vnd.jupyter.widget-view+json": {
       "model_id": "74de010a45ab4fc5bc4f09d3aff59f0f",
       "version_major": 2,
       "version_minor": 0
      },
      "text/plain": [
       "HBox(children=(IntProgress(value=0, max=4), HTML(value='')))"
      ]
     },
     "metadata": {},
     "output_type": "display_data"
    },
    {
     "name": "stdout",
     "output_type": "stream",
     "text": [
      "39417.74586128189\n",
      "47078.441387778024\n",
      "30954.151045008985\n",
      "13896.791943439477\n",
      "\n"
     ]
    }
   ],
   "source": [
    "algorithm = 4\n",
    "w[algorithm] = []\n",
    "gamma = 0.1\n",
    "for yi, txi, wi in zip(tqdm(y), tx, initial_w):\n",
    "    losses = []\n",
    "    yi = (yi+1)/2\n",
    "    local_w, loss = logistic_regression(yi, txi, wi.copy(), 100000, gamma) \n",
    "    w[algorithm].append(local_w)\n",
    "    print(loss)"
   ]
  },
  {
   "cell_type": "code",
   "execution_count": 49,
   "metadata": {},
   "outputs": [
    {
     "data": {
      "application/vnd.jupyter.widget-view+json": {
       "model_id": "b188488ae3a64619933a0a7c922de8c3",
       "version_major": 2,
       "version_minor": 0
      },
      "text/plain": [
       "HBox(children=(IntProgress(value=0, max=4), HTML(value='')))"
      ]
     },
     "metadata": {},
     "output_type": "display_data"
    },
    {
     "name": "stdout",
     "output_type": "stream",
     "text": [
      "39417.74586128189\n",
      "47078.441387778024\n",
      "30954.151045008985\n",
      "13896.791943439477\n",
      "\n"
     ]
    }
   ],
   "source": [
    "algorithm = 4\n",
    "w[algorithm] = []\n",
    "gamma = 0.1\n",
    "for yi, txi, wi in zip(tqdm(y), tx, initial_w):\n",
    "    losses = []\n",
    "    yi = (yi+1)/2\n",
    "    local_w, loss = logistic_regression(yi, txi, wi.copy(), 100000, gamma) \n",
    "    w[algorithm].append(local_w)\n",
    "    print(loss)"
   ]
  },
  {
   "cell_type": "markdown",
   "metadata": {},
   "source": [
    "### 5. Regularized logistic regression"
   ]
  },
  {
   "cell_type": "code",
   "execution_count": 50,
   "metadata": {},
   "outputs": [
    {
     "data": {
      "application/vnd.jupyter.widget-view+json": {
       "model_id": "aaafb97773ce4919836a9e7995fe61d2",
       "version_major": 2,
       "version_minor": 0
      },
      "text/plain": [
       "HBox(children=(IntProgress(value=0, max=4), HTML(value='')))"
      ]
     },
     "metadata": {},
     "output_type": "display_data"
    },
    {
     "name": "stdout",
     "output_type": "stream",
     "text": [
      "446975.5142691836\n",
      "537063.442570036\n",
      "279133.87553108076\n",
      "144355.1922707886\n",
      "\n"
     ]
    }
   ],
   "source": [
    "algorithm = 5\n",
    "w[algorithm] = []\n",
    "gamma = 0.1\n",
    "lambda_ = 0.001\n",
    "for yi, txi, wi in zip(tqdm(y), tx, initial_w):\n",
    "    yi = (yi+1)/2\n",
    "    local_w, loss = reg_logistic_regression(yi, txi, lambda_, wi, 1000, gamma)\n",
    "    w[algorithm].append(local_w)\n",
    "    print(loss)"
   ]
  },
  {
   "cell_type": "code",
   "execution_count": 51,
   "metadata": {},
   "outputs": [
    {
     "data": {
      "application/vnd.jupyter.widget-view+json": {
       "model_id": "5f5faf5411884669b5440a0d3debd2b3",
       "version_major": 2,
       "version_minor": 0
      },
      "text/plain": [
       "HBox(children=(IntProgress(value=0, max=4), HTML(value='')))"
      ]
     },
     "metadata": {},
     "output_type": "display_data"
    },
    {
     "name": "stdout",
     "output_type": "stream",
     "text": [
      "446975.5036449792\n",
      "537063.4424986583\n",
      "266678.0360664513\n",
      "144393.92698440995\n",
      "\n"
     ]
    }
   ],
   "source": [
    "algorithm = 5\n",
    "w[algorithm] = []\n",
    "gamma = 0.1\n",
    "lambda_ = 0.001\n",
    "for yi, txi, wi in zip(tqdm(y), tx, initial_w):\n",
    "    yi = (yi+1)/2\n",
    "    local_w, loss = reg_logistic_regression(yi, txi, lambda_, wi, 1000, gamma)\n",
    "    w[algorithm].append(local_w)\n",
    "    print(loss)"
   ]
  },
  {
   "cell_type": "markdown",
   "metadata": {},
   "source": [
    "## Final evaluation"
   ]
  },
  {
   "cell_type": "code",
   "execution_count": 52,
   "metadata": {},
   "outputs": [
    {
     "name": "stdout",
     "output_type": "stream",
     "text": [
      "algo 0\n",
      "0.6930645548356131\n",
      "algo 1\n",
      "0.6930645548356131\n",
      "algo 2\n",
      "0.7573394128469723\n",
      "algo 3\n",
      "0.75765938724902\n",
      "algo 4\n",
      "0.7329013678905687\n",
      "algo 5\n",
      "0.6930645548356131\n"
     ]
    }
   ],
   "source": [
    "def accuracy(y_test,w,tx_test):\n",
    "    return (y_test == predict_labels(w, tx_test).ravel()).sum()/len(y_test)\n",
    "\n",
    "def calc_weighted_mean(accuracy_by_pri):\n",
    "    total = 0.\n",
    "    nbElements = 0.\n",
    "    for acc, y in zip(accuracy_by_pri, y_test):\n",
    "        nbElements += len(y)\n",
    "        total += acc * len(y)\n",
    "    return total / nbElements\n",
    "\n",
    "for output_algo in range(number_of_algorithms):\n",
    "    print(\"algo \" + str(output_algo))\n",
    "    accuracy_by_pri = []\n",
    "    for dataset_id in range(len(y_test)):\n",
    "        accuracy_by_pri.append(accuracy(y_test[dataset_id],w[output_algo][dataset_id],tx_test[dataset_id]))\n",
    "    \n",
    "    print(calc_weighted_mean(accuracy_by_pri))"
   ]
  },
  {
   "cell_type": "code",
   "execution_count": 208,
   "metadata": {},
   "outputs": [
    {
     "data": {
      "text/plain": [
       "4"
      ]
     },
     "execution_count": 208,
     "metadata": {},
     "output_type": "execute_result"
    }
   ],
   "source": [
    "len(y_test)"
   ]
  },
  {
   "cell_type": "markdown",
   "metadata": {},
   "source": [
    "### Load test set"
   ]
  },
  {
   "cell_type": "code",
   "execution_count": 22,
   "metadata": {},
   "outputs": [],
   "source": [
    "DATA_TEST_PATH = '../data/test.csv'\n",
    "\n",
    "hbt = pd.read_csv(DATA_TEST_PATH, sep=',')\n",
    "hbt = hbt.drop(['Prediction'], 1)\n",
    "hbt = hbt.set_index(['Id'])"
   ]
  },
  {
   "cell_type": "markdown",
   "metadata": {},
   "source": [
    "## Make predictions"
   ]
  },
  {
   "cell_type": "code",
   "execution_count": 55,
   "metadata": {},
   "outputs": [],
   "source": [
    "output_algo = 4\n",
    "\n",
    "test_pri = cleanDataSet(hbt)\n",
    "test_pri_tX = [] # tX arrays to run prediction on\n",
    "for idx , dataset in enumerate(test_pri):\n",
    "    test_pri_tX.append( tildaNumpy(normalizeDataset_numpy(polynomial_expansion( normalizeDataset(dataset).to_numpy(), POLYNOMIAL_EXPANSION_DEGREE))))\n",
    "    \n",
    "def predict(test_pri,test_pri_tX, w):\n",
    "    for idx, dataset in enumerate(test_pri_tX):\n",
    "        test_pri[idx]['Prediction'] = predict_labels(w[output_algo][idx],dataset)\n",
    "    return test_pri\n",
    "\n",
    "test_prediction = predict(test_pri,test_pri_tX,w)\n",
    "test_prediction = pd.concat(test_prediction,sort=True)\n",
    "test_prediction = test_prediction.sort_index()\n",
    "OUTPUT_PATH = 'predictions.csv'\n",
    "create_csv_submission(test_prediction.Prediction.keys(), test_prediction.Prediction.values, OUTPUT_PATH)"
   ]
  },
  {
   "cell_type": "code",
   "execution_count": 56,
   "metadata": {},
   "outputs": [
    {
     "name": "stdout",
     "output_type": "stream",
     "text": [
      "568238\n",
      "203406\n"
     ]
    }
   ],
   "source": [
    "print(len(test_prediction.Prediction.values))\n",
    "print(len(test_prediction.Prediction.values[test_prediction.Prediction.values > 0]))"
   ]
  },
  {
   "cell_type": "code",
   "execution_count": 15,
   "metadata": {},
   "outputs": [
    {
     "name": "stdout",
     "output_type": "stream",
     "text": [
      "(248,)\n"
     ]
    }
   ],
   "source": [
    "print(w[4][0].shape)"
   ]
  }
 ],
 "metadata": {
  "kernelspec": {
   "display_name": "Python 3",
   "language": "python",
   "name": "python3"
  },
  "language_info": {
   "codemirror_mode": {
    "name": "ipython",
    "version": 3
   },
   "file_extension": ".py",
   "mimetype": "text/x-python",
   "name": "python",
   "nbconvert_exporter": "python",
   "pygments_lexer": "ipython3",
   "version": "3.6.5"
  }
 },
 "nbformat": 4,
 "nbformat_minor": 2
}
