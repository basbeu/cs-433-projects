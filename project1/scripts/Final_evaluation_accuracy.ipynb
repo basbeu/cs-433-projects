{
 "cells": [
  {
   "cell_type": "markdown",
   "metadata": {},
   "source": [
    "# Higgs Boson detection"
   ]
  },
  {
   "cell_type": "code",
   "execution_count": 15,
   "metadata": {},
   "outputs": [
    {
     "name": "stdout",
     "output_type": "stream",
     "text": [
      "The autoreload extension is already loaded. To reload it, use:\n",
      "  %reload_ext autoreload\n"
     ]
    }
   ],
   "source": [
    "%matplotlib inline\n",
    "import numpy as np\n",
    "import numpy.linalg as la\n",
    "import matplotlib.pyplot as plt\n",
    "from expansion import *\n",
    "%load_ext autoreload\n",
    "%autoreload 2\n",
    "import pandas as pd\n",
    "from IPython.display import display\n",
    "from proj1_helpers import *"
   ]
  },
  {
   "cell_type": "markdown",
   "metadata": {},
   "source": [
    "## Data parsing/cleaning"
   ]
  },
  {
   "cell_type": "code",
   "execution_count": 16,
   "metadata": {},
   "outputs": [],
   "source": [
    "pri0_to_drop = [\"DER_deltaeta_jet_jet\",\"DER_mass_jet_jet\",\"DER_prodeta_jet_jet\",\"DER_lep_eta_centrality\",\"PRI_jet_leading_pt\",\"PRI_jet_leading_eta\",\"PRI_jet_leading_phi\",\"PRI_jet_subleading_pt\",\"PRI_jet_subleading_eta\",\"PRI_jet_subleading_phi\"]\n",
    "pri1_to_drop = [\"DER_deltaeta_jet_jet\",\"DER_mass_jet_jet\",\"DER_prodeta_jet_jet\",\"DER_lep_eta_centrality\",\"PRI_jet_subleading_pt\",\"PRI_jet_subleading_eta\",\"PRI_jet_subleading_phi\"]"
   ]
  },
  {
   "cell_type": "code",
   "execution_count": 17,
   "metadata": {},
   "outputs": [],
   "source": [
    "DATA_TRAIN_PATH = '../data/train.csv'\n",
    "hb = pd.read_csv(DATA_TRAIN_PATH, sep=',')\n",
    "pd.options.display.max_columns = None\n",
    "hb = hb.drop(['Id'], 1)\n",
    "\n",
    "def cleanDataSet(dataset):\n",
    "    #dataset = add_DER_mass_indicator(dataset)\n",
    "    dataset_mass_def = dataset[dataset.DER_mass_MMC != -999].copy()\n",
    "    dataset_mass_not_def = dataset[dataset.DER_mass_MMC == -999].copy()\n",
    "    dataset_mass_not_def = dataset_mass_not_def.drop(['DER_mass_MMC'],1)\n",
    "    def splitOnJetNum(dataset, DER_mass_MMC_is_defined):\n",
    "        dataset = dataset.replace(-999, np.nan)\n",
    "        if(DER_mass_MMC_is_defined):\n",
    "            dataset = nonPolyFeatureExpansion(dataset)\n",
    "\n",
    "\n",
    "        pri0 = dataset[dataset.PRI_jet_num==0].copy()\n",
    "        pri0 = pri0.drop(pri0_to_drop,1)\n",
    "        pri0 = pri0.drop([\"PRI_jet_num\",\"PRI_jet_all_pt\"],1)\n",
    "\n",
    "        pri1 = dataset[dataset.PRI_jet_num == 1].copy()\n",
    "        pri1 = pri1.drop(pri1_to_drop,1)\n",
    "        pri1 = pri1.drop([\"PRI_jet_num\"],1)\n",
    "\n",
    "        pri2 = dataset[dataset.PRI_jet_num == 2].copy()\n",
    "        pri2 = pri2.drop([\"PRI_jet_num\"],1)\n",
    "\n",
    "        pri3 = dataset[dataset.PRI_jet_num == 3].copy()\n",
    "        pri3 = pri3.drop([\"PRI_jet_num\"],1)\n",
    "\n",
    "        return [pri0,pri1,pd.concat([pri2,pri3])]\n",
    "    \n",
    "    return splitOnJetNum(dataset_mass_def, True) + splitOnJetNum(dataset_mass_not_def, False)\n",
    "\n",
    "def extractPredictions(dataset):\n",
    "    return dataset.Prediction.apply(lambda x: -1 if x == 'b' else 1).to_numpy()\n",
    "\n",
    "def add_DER_mass_indicator(data):\n",
    "    data['DER_mass_MMC_present'] = (data.DER_mass_MMC == -999).apply(lambda x : 1 if x else 0)\n",
    "    return data\n",
    "\n",
    "def nonPolyFeatureExpansion(data):\n",
    "    data['Mass_let_tau_sum_pt_ratio'] = data.DER_mass_MMC * data.DER_pt_ratio_lep_tau / (data.DER_sum_pt+1e-10)\n",
    "    return data\n",
    "\n",
    "def normalizeDataset(dataset):\n",
    "    dataset = (dataset - dataset.mean()) / dataset.std()\n",
    "    dataset = dataset.fillna(0)\n",
    "    dataset = (dataset - dataset.mean()) / dataset.std()\n",
    "    return dataset\n",
    "\n",
    "def normalizeDataset_numpy(dataset):\n",
    "    dataset = (dataset - dataset.mean(axis=0)) / dataset.std(axis=0)\n",
    "    dataset = np.nan_to_num(dataset)\n",
    "    dataset = (dataset - dataset.mean(axis=0)) / dataset.std(axis = 0)\n",
    "    return dataset\n",
    "\n",
    "def tildaNumpy(X):\n",
    "    return np.c_[np.ones(X.shape[0]), X]\n",
    "\n",
    "POLYNOMIAL_EXPANSION_DEGREE = 13\n",
    "\n",
    "tx = cleanDataSet(hb)\n",
    "y = []\n",
    "\n",
    "from sklearn.model_selection import train_test_split\n",
    "tx_test = []\n",
    "y_test = []\n",
    "\n",
    "for idx, dataset in enumerate(tx):\n",
    "    y_temp = extractPredictions(dataset)\n",
    "    dataset = dataset.drop(['Prediction'],1)\n",
    "    tx_temp = tildaNumpy(normalizeDataset_numpy(polynomial_expansion( normalizeDataset(dataset).to_numpy(), POLYNOMIAL_EXPANSION_DEGREE)))\n",
    "    X_train, X_test, y_train, y_test_temp = train_test_split(tx_temp, y_temp, test_size=0.1, random_state=0)    \n",
    "    \n",
    "    y.append(y_train)\n",
    "    tx[idx] = X_train\n",
    "    tx_test.append(X_test)\n",
    "    y_test.append(y_test_temp)"
   ]
  },
  {
   "cell_type": "code",
   "execution_count": 18,
   "metadata": {},
   "outputs": [],
   "source": [
    "from implementations import *\n",
    "\n",
    "number_of_algorithms = 6\n",
    "\n",
    "w = []\n",
    "for i in range(number_of_algorithms):\n",
    "    w.append([])\n",
    "\n",
    "initial_w = [np.zeros(txi.shape[1]) for txi in tx]"
   ]
  },
  {
   "cell_type": "code",
   "execution_count": 19,
   "metadata": {},
   "outputs": [],
   "source": [
    "def score(X, w, y):\n",
    "    return (y == predict_labels(w,X)).sum()/len(y)\n",
    "\n",
    "def score_attempt(pri_cross_validation_test, w_pri, prediction_cross_validation_test):\n",
    "    res = []\n",
    "    for i in range(len(w_pri)):\n",
    "        s = score(pri_cross_validation_test[i], w_pri[i], prediction_cross_validation_test[i])\n",
    "        res.append(s)\n",
    "        print(\"Socre for pri : \" +  str(i) + \" is : \"+ str(s))\n",
    "    return res"
   ]
  },
  {
   "cell_type": "markdown",
   "metadata": {},
   "source": [
    "## Algorithms"
   ]
  },
  {
   "cell_type": "code",
   "execution_count": 21,
   "metadata": {},
   "outputs": [],
   "source": [
    "%%capture\n",
    "from tqdm import tqdm_notebook as tqdm\n",
    "tqdm().pandas()"
   ]
  },
  {
   "cell_type": "markdown",
   "metadata": {},
   "source": [
    "### 0. Least squares gradient descent"
   ]
  },
  {
   "cell_type": "code",
   "execution_count": 31,
   "metadata": {
    "scrolled": true
   },
   "outputs": [
    {
     "data": {
      "application/vnd.jupyter.widget-view+json": {
       "model_id": "c14754603c4a403da32b8cec52257b7a",
       "version_major": 2,
       "version_minor": 0
      },
      "text/plain": [
       "HBox(children=(IntProgress(value=1, bar_style='info', max=1), HTML(value='')))"
      ]
     },
     "metadata": {},
     "output_type": "display_data"
    },
    {
     "name": "stdout",
     "output_type": "stream",
     "text": [
      "10671929.329061462\n",
      "19860389.968365233\n",
      "30812489.96659323\n",
      "517873.41866305616\n",
      "27835.78594588424\n",
      "48931.04325325337\n",
      "\n"
     ]
    }
   ],
   "source": [
    "algorithm = 0\n",
    "w[algorithm] = []\n",
    "for i, (yi, txi, wi) in tqdm(enumerate(zip(y, tx, initial_w))):\n",
    "    local_w, loss = least_squares_GD(yi, txi, wi, 1000, 1e-3)\n",
    "    w[algorithm].append(local_w)\n",
    "    print(loss)"
   ]
  },
  {
   "cell_type": "markdown",
   "metadata": {},
   "source": [
    "### 1. Least squares stochastic gradient descent"
   ]
  },
  {
   "cell_type": "code",
   "execution_count": 23,
   "metadata": {},
   "outputs": [
    {
     "data": {
      "application/vnd.jupyter.widget-view+json": {
       "model_id": "1811d6e2cf3a41f3abab70325e2cce3e",
       "version_major": 2,
       "version_minor": 0
      },
      "text/plain": [
       "HBox(children=(IntProgress(value=1, bar_style='info', max=1), HTML(value='')))"
      ]
     },
     "metadata": {},
     "output_type": "display_data"
    },
    {
     "name": "stdout",
     "output_type": "stream",
     "text": [
      "0.31245808281184406\n",
      "0.4998508173649781\n",
      "0.49962271898390875\n",
      "0.49959567136397376\n",
      "0.49907989266831543\n",
      "0.4982482008902367\n",
      "\n"
     ]
    }
   ],
   "source": [
    "algorithm = 1\n",
    "w[algorithm] = []\n",
    "for yi, txi, wi in tqdm(zip(y, tx, initial_w)):\n",
    "    local_w, loss = least_squares_SGD(yi, txi, wi, 10000, 1e-3)\n",
    "    w[algorithm].append(local_w)\n",
    "    print(loss)"
   ]
  },
  {
   "cell_type": "markdown",
   "metadata": {},
   "source": [
    "### 2. Least squares"
   ]
  },
  {
   "cell_type": "code",
   "execution_count": 135,
   "metadata": {},
   "outputs": [
    {
     "data": {
      "application/vnd.jupyter.widget-view+json": {
       "model_id": "73d2eff843fb455e9ff024779b159432",
       "version_major": 2,
       "version_minor": 0
      },
      "text/plain": [
       "HBox(children=(IntProgress(value=1, bar_style='info', max=1), HTML(value='')))"
      ]
     },
     "metadata": {},
     "output_type": "display_data"
    },
    {
     "name": "stdout",
     "output_type": "stream",
     "text": [
      "0.2720901101533826\n",
      "0.3310380267295861\n",
      "0.2552946451353775\n",
      "0.08137046802973608\n",
      "0.12266053798573057\n",
      "0.12724003401703507\n",
      "\n"
     ]
    }
   ],
   "source": [
    "algorithm = 2\n",
    "w[algorithm] = []\n",
    "for yi, txi in tqdm(zip(y, tx)):\n",
    "    local_w, loss = least_squares(yi, txi)\n",
    "    w[algorithm].append(local_w)\n",
    "    print(loss)"
   ]
  },
  {
   "cell_type": "markdown",
   "metadata": {},
   "source": [
    "### 3. Ridge regression"
   ]
  },
  {
   "cell_type": "code",
   "execution_count": 25,
   "metadata": {},
   "outputs": [
    {
     "data": {
      "application/vnd.jupyter.widget-view+json": {
       "model_id": "a3f7da5750e34fdf80723ab997969c25",
       "version_major": 2,
       "version_minor": 0
      },
      "text/plain": [
       "HBox(children=(IntProgress(value=0, max=30), HTML(value='')))"
      ]
     },
     "metadata": {},
     "output_type": "display_data"
    },
    {
     "name": "stdout",
     "output_type": "stream",
     "text": [
      "\n",
      "0.004520353656360241\n"
     ]
    },
    {
     "data": {
      "image/png": "[encoded data removed]",
      "text/plain": [
       "<Figure size 432x288 with 1 Axes>"
      ]
     },
     "metadata": {},
     "output_type": "display_data"
    },
    {
     "data": {
      "application/vnd.jupyter.widget-view+json": {
       "model_id": "b4531ab52b504eb4ba8521793dc0ac4a",
       "version_major": 2,
       "version_minor": 0
      },
      "text/plain": [
       "HBox(children=(IntProgress(value=0, max=30), HTML(value='')))"
      ]
     },
     "metadata": {},
     "output_type": "display_data"
    },
    {
     "name": "stdout",
     "output_type": "stream",
     "text": [
      "\n",
      "0.0032903445623126675\n"
     ]
    },
    {
     "data": {
      "image/png": "[encoded data removed]",
      "text/plain": [
       "<Figure size 432x288 with 1 Axes>"
      ]
     },
     "metadata": {},
     "output_type": "display_data"
    },
    {
     "data": {
      "application/vnd.jupyter.widget-view+json": {
       "model_id": "90538fe6269947b19618767220e63d2e",
       "version_major": 2,
       "version_minor": 0
      },
      "text/plain": [
       "HBox(children=(IntProgress(value=0, max=30), HTML(value='')))"
      ]
     },
     "metadata": {},
     "output_type": "display_data"
    },
    {
     "name": "stdout",
     "output_type": "stream",
     "text": [
      "\n",
      "0.0003562247890262444\n"
     ]
    },
    {
     "data": {
      "image/png": "[encoded data removed]",
      "text/plain": [
       "<Figure size 432x288 with 1 Axes>"
      ]
     },
     "metadata": {},
     "output_type": "display_data"
    },
    {
     "data": {
      "application/vnd.jupyter.widget-view+json": {
       "model_id": "90f10fdbf734454da6020929abfd72ad",
       "version_major": 2,
       "version_minor": 0
      },
      "text/plain": [
       "HBox(children=(IntProgress(value=0, max=30), HTML(value='')))"
      ]
     },
     "metadata": {},
     "output_type": "display_data"
    },
    {
     "name": "stdout",
     "output_type": "stream",
     "text": [
      "\n",
      "0.06210169418915616\n"
     ]
    },
    {
     "data": {
      "image/png": "[encoded data removed]",
      "text/plain": [
       "<Figure size 432x288 with 1 Axes>"
      ]
     },
     "metadata": {},
     "output_type": "display_data"
    },
    {
     "data": {
      "application/vnd.jupyter.widget-view+json": {
       "model_id": "45301afe0f1e43b19abadd8d2c51a1a1",
       "version_major": 2,
       "version_minor": 0
      },
      "text/plain": [
       "HBox(children=(IntProgress(value=0, max=30), HTML(value='')))"
      ]
     },
     "metadata": {},
     "output_type": "display_data"
    },
    {
     "name": "stdout",
     "output_type": "stream",
     "text": [
      "\n",
      "0.001\n"
     ]
    },
    {
     "data": {
      "image/png": "[encoded data removed]",
      "text/plain": [
       "<Figure size 432x288 with 1 Axes>"
      ]
     },
     "metadata": {},
     "output_type": "display_data"
    },
    {
     "data": {
      "application/vnd.jupyter.widget-view+json": {
       "model_id": "09127f0cfe2742dca03c9f1cb0a29018",
       "version_major": 2,
       "version_minor": 0
      },
      "text/plain": [
       "HBox(children=(IntProgress(value=0, max=30), HTML(value='')))"
      ]
     },
     "metadata": {},
     "output_type": "display_data"
    },
    {
     "name": "stdout",
     "output_type": "stream",
     "text": [
      "\n",
      "0.05298316906283707\n"
     ]
    },
    {
     "data": {
      "image/png": "[encoded data removed]",
      "text/plain": [
       "<Figure size 432x288 with 1 Axes>"
      ]
     },
     "metadata": {},
     "output_type": "display_data"
    }
   ],
   "source": [
    "from plots import *\n",
    "\n",
    "ridge_parameters = []\n",
    "\n",
    "def build_k_indices(y, k_fold, seed):\n",
    "    \"\"\"build k indices for k-fold.\"\"\"\n",
    "    num_row = y.shape[0]\n",
    "    interval = int(num_row / k_fold)\n",
    "    np.random.seed(seed)\n",
    "    indices = np.random.permutation(num_row)\n",
    "    k_indices = [indices[k * interval: (k + 1) * interval]\n",
    "                 for k in range(k_fold)]\n",
    "    return np.array(k_indices)\n",
    "\n",
    "def cross_validation(y, x, k_indices, k, lambda_):\n",
    "    \"\"\"return the loss of ridge regression.\"\"\"\n",
    "\n",
    "    x_tr = np.delete(x, k_indices[k], axis=0)\n",
    "    y_tr = np.delete(y, k_indices[k], axis=0)\n",
    "    \n",
    "    x_te = x[k_indices[k]]\n",
    "    y_te = y[k_indices[k]]\n",
    "    w, rmse = ridge_regression(y_tr, x_tr, lambda_)\n",
    "    \n",
    "    n = y.shape[0]\n",
    "    loss_tr = rmse\n",
    "    loss_te = compute_loss_rmse(2*n , compute_e(y_te, x_te, w))\n",
    "    return loss_tr, loss_te\n",
    "    \n",
    "def cross_validation_demo(i):\n",
    "    seed = 2019\n",
    "    k_fold = 10\n",
    "    lambdas = np.logspace(-10, -3, 15)\n",
    "    if i == 0:\n",
    "        lambdas = np.logspace(-3, -2, 30)\n",
    "    elif i == 1:\n",
    "        lambdas = np.logspace(-3, -2, 30)\n",
    "    elif i == 2:\n",
    "        lambdas = np.logspace(-4, -3, 30)\n",
    "    elif i == 3:\n",
    "        lambdas = np.logspace(-2, -1, 30)\n",
    "    elif i == 4:\n",
    "        lambdas = np.logspace(-3, -2, 30)\n",
    "    elif i == 5:\n",
    "        lambdas = np.logspace(-2, -1, 30)\n",
    "    \n",
    "    yex = y[i][:,np.newaxis]\n",
    "    x = tx[i]\n",
    "    \n",
    "    # split data in k fold\n",
    "    k_indices = build_k_indices(yex, k_fold, seed)\n",
    "    # define lists to store the loss of training data and test data\n",
    "    rmse_tr = []\n",
    "    rmse_te = []\n",
    "    var_tr = []\n",
    "    var_te = []\n",
    "    \n",
    "    for lambda_ in tqdm(lambdas):\n",
    "        loss_tr = []\n",
    "        loss_te = []\n",
    "        for k in range(k_fold):\n",
    "            tr, te = cross_validation(yex, x, k_indices, k, lambda_)\n",
    "            loss_tr.append(tr)\n",
    "            loss_te.append(te)\n",
    "        rmse_tr.append(np.mean(loss_tr))\n",
    "        rmse_te.append(np.mean(loss_te))\n",
    "        var_tr.append(np.std(loss_tr))\n",
    "        var_te.append(np.std(loss_te))\n",
    "    optimal = lambdas[np.argmin(rmse_te)]\n",
    "    print(optimal)\n",
    "    ridge_parameters.append(optimal)\n",
    "    cross_validation_visualization(lambdas, rmse_tr, rmse_te, var_tr, var_te)\n",
    "\n",
    "for i in range(len(tx)):\n",
    "    cross_validation_demo(i)"
   ]
  },
  {
   "cell_type": "code",
   "execution_count": 26,
   "metadata": {},
   "outputs": [
    {
     "data": {
      "application/vnd.jupyter.widget-view+json": {
       "model_id": "16952becaff94648a1e9ec0c40b5ff17",
       "version_major": 2,
       "version_minor": 0
      },
      "text/plain": [
       "HBox(children=(IntProgress(value=1, bar_style='info', max=1), HTML(value='')))"
      ]
     },
     "metadata": {},
     "output_type": "display_data"
    },
    {
     "name": "stdout",
     "output_type": "stream",
     "text": [
      "0.7566266806815667\n",
      "0.8182920803250745\n",
      "0.7745240187277586\n",
      "0.4307490934100487\n",
      "0.5099413357726666\n",
      "0.5469831227145905\n",
      "\n"
     ]
    }
   ],
   "source": [
    "algorithm = 3\n",
    "w[algorithm] = []\n",
    "for yi, txi, ridge_parameter in tqdm(zip(y, tx, ridge_parameters)):\n",
    "    local_w, loss = ridge_regression(yi, txi, ridge_parameter)\n",
    "    w[algorithm].append(local_w)\n",
    "    print(loss)"
   ]
  },
  {
   "cell_type": "code",
   "execution_count": 9,
   "metadata": {},
   "outputs": [
    {
     "name": "stdout",
     "output_type": "stream",
     "text": [
      "0.757572786776236\n",
      "0.8181975593660928\n",
      "0.7745536334242282\n",
      "0.43275341587260346\n",
      "0.5148865812179867\n",
      "0.5407956516331069\n"
     ]
    }
   ],
   "source": [
    "algorithm = 3\n",
    "w[algorithm] = []\n",
    "for yi, txi, ridge_parameter in zip(y, tx, ridge_parameters):\n",
    "    local_w, loss = ridge_regression(yi, txi, ridge_parameter)\n",
    "    w[algorithm].append(local_w)\n",
    "    print(loss)"
   ]
  },
  {
   "cell_type": "markdown",
   "metadata": {},
   "source": [
    "### 4. Logistic regression"
   ]
  },
  {
   "cell_type": "code",
   "execution_count": 29,
   "metadata": {},
   "outputs": [
    {
     "name": "stdout",
     "output_type": "stream",
     "text": [
      "91896.49667671203\n",
      "100291.71687383215\n",
      "146300.4900189365\n",
      "11265.063340062874\n",
      "7556.548262369812\n",
      "4507.111487560913\n"
     ]
    }
   ],
   "source": [
    "algorithm = 4\n",
    "w[algorithm] = []\n",
    "gamma = 0.1\n",
    "for yi, txi, wi in zip(y, tx, initial_w):\n",
    "    losses = []\n",
    "    yi = (yi+1)/2\n",
    "    local_w, loss = logistic_regression(yi, txi, wi.copy(), 100000, gamma) \n",
    "    w[algorithm].append(local_w)\n",
    "    print(loss)"
   ]
  },
  {
   "cell_type": "code",
   "execution_count": 10,
   "metadata": {},
   "outputs": [
    {
     "name": "stdout",
     "output_type": "stream",
     "text": [
      "75939.12338498449\n",
      "127198.36884224544\n",
      "155022.42692999382\n",
      "12741.386052927577\n",
      "8571.778302091534\n",
      "5536.126105547543\n"
     ]
    }
   ],
   "source": [
    "algorithm = 4\n",
    "w[algorithm] = []\n",
    "gamma = 0.1\n",
    "for yi, txi, wi in tqdm(zip(y, tx, initial_w)):\n",
    "    losses = []\n",
    "    yi = (yi+1)/2\n",
    "    local_w, loss = logistic_regression(yi, txi, wi.copy(), 100000, gamma) \n",
    "    w[algorithm].append(local_w)\n",
    "    print(loss)"
   ]
  },
  {
   "cell_type": "markdown",
   "metadata": {},
   "source": [
    "### 5. Regularized logistic regression"
   ]
  },
  {
   "cell_type": "code",
   "execution_count": 30,
   "metadata": {},
   "outputs": [
    {
     "name": "stdout",
     "output_type": "stream",
     "text": [
      "389382.36560039344\n",
      "340916.3917021005\n",
      "334271.3632889277\n",
      "26601.583171862858\n",
      "29183.48722498811\n",
      "7900.3805048358445\n"
     ]
    }
   ],
   "source": [
    "algorithm = 5\n",
    "w[algorithm] = []\n",
    "gamma = 0.1\n",
    "lambda_ = 0.001\n",
    "for yi, txi, wi in zip(y, tx, initial_w):\n",
    "    yi = (yi+1)/2\n",
    "    local_w, loss = reg_logistic_regression(yi, txi, lambda_, wi, 1000, gamma)\n",
    "    w[algorithm].append(local_w)\n",
    "    print(loss)"
   ]
  },
  {
   "cell_type": "code",
   "execution_count": 11,
   "metadata": {},
   "outputs": [
    {
     "name": "stdout",
     "output_type": "stream",
     "text": [
      "433170.26571384526\n",
      "488105.7025541797\n",
      "380248.5781669086\n",
      "39033.11653962625\n",
      "13530.626074803542\n",
      "10018.656288199754\n"
     ]
    }
   ],
   "source": [
    "algorithm = 5\n",
    "w[algorithm] = []\n",
    "gamma = 0.1\n",
    "lambda_ = 0.001\n",
    "for yi, txi, wi in zip(y, tx, initial_w):\n",
    "    yi = (yi+1)/2\n",
    "    local_w, loss = reg_logistic_regression(yi, txi, lambda_, wi, 1000, gamma)\n",
    "    w[algorithm].append(local_w)\n",
    "    print(loss)"
   ]
  },
  {
   "cell_type": "markdown",
   "metadata": {},
   "source": [
    "## Final evaluation"
   ]
  },
  {
   "cell_type": "code",
   "execution_count": 118,
   "metadata": {},
   "outputs": [
    {
     "data": {
      "text/plain": [
       "7379"
      ]
     },
     "execution_count": 118,
     "metadata": {},
     "output_type": "execute_result"
    }
   ],
   "source": [
    "len(y_test[0])"
   ]
  },
  {
   "cell_type": "code",
   "execution_count": 119,
   "metadata": {},
   "outputs": [
    {
     "name": "stdout",
     "output_type": "stream",
     "text": [
      "algo 0\n",
      "0.7223133224013119\n",
      "algo 1\n",
      "0.7223133224013119\n",
      "algo 2\n",
      "0.8266608007039156\n",
      "algo 3\n",
      "0.8118225812902452\n",
      "algo 4\n",
      "0.7619085709714835\n",
      "algo 5\n",
      "0.7223133224013119\n"
     ]
    }
   ],
   "source": [
    "def accuracy(y_test,w,tx_test):\n",
    "    return (y_test == predict_labels(w, tx_test).ravel()).sum()/len(y_test)\n",
    "\n",
    "def calc_weighted_mean(accuracy_by_pri):\n",
    "    total = 0.\n",
    "    nbElements = 0.\n",
    "    for acc, y in zip(accuracy_by_pri, y_test):\n",
    "        nbElements += len(y)\n",
    "        total += acc * len(y)\n",
    "    return total / nbElements\n",
    "\n",
    "for output_algo in range(number_of_algorithms):\n",
    "    print(\"algo \" + str(output_algo))\n",
    "    accuracy_by_pri = []\n",
    "    for dataset_id in range(6):\n",
    "        accuracy_by_pri.append(accuracy(y_test[dataset_id],w[output_algo][dataset_id],tx_test[dataset_id]))\n",
    "    \n",
    "    print(calc_weighted_mean(accuracy_by_pri))"
   ]
  },
  {
   "cell_type": "markdown",
   "metadata": {},
   "source": [
    "### Load test set"
   ]
  },
  {
   "cell_type": "code",
   "execution_count": 121,
   "metadata": {},
   "outputs": [],
   "source": [
    "DATA_TEST_PATH = '../data/test.csv'\n",
    "\n",
    "hbt = pd.read_csv(DATA_TEST_PATH, sep=',')\n",
    "hbt = hbt.drop(['Prediction'], 1)\n",
    "hbt = hbt.set_index(['Id'])"
   ]
  },
  {
   "cell_type": "markdown",
   "metadata": {},
   "source": [
    "## Make predictions"
   ]
  },
  {
   "cell_type": "code",
   "execution_count": 133,
   "metadata": {},
   "outputs": [],
   "source": [
    "output_algo = 5\n",
    "\n",
    "test_pri = cleanDataSet(hbt)\n",
    "test_pri_tX = [] # tX arrays to run prediction on\n",
    "for idx , dataset in enumerate(test_pri):\n",
    "    test_pri_tX.append( tildaNumpy(normalizeDataset_numpy(polynomial_expansion( normalizeDataset(dataset).to_numpy(), POLYNOMIAL_EXPANSION_DEGREE))))\n",
    "    \n",
    "def predict(test_pri,test_pri_tX, w):\n",
    "    for idx, dataset in enumerate(test_pri_tX):\n",
    "        test_pri[idx]['Prediction'] = predict_labels(w[output_algo][idx],dataset)\n",
    "    return test_pri\n",
    "\n",
    "test_prediction = predict(test_pri,test_pri_tX,w)\n",
    "test_prediction = pd.concat(test_prediction,sort=True)\n",
    "test_prediction = test_prediction.sort_index()\n",
    "OUTPUT_PATH = 'predictions.csv'\n",
    "create_csv_submission(test_prediction.Prediction.keys(), test_prediction.Prediction.values, OUTPUT_PATH)"
   ]
  },
  {
   "cell_type": "code",
   "execution_count": 134,
   "metadata": {},
   "outputs": [
    {
     "name": "stdout",
     "output_type": "stream",
     "text": [
      "568238\n",
      "190095\n"
     ]
    }
   ],
   "source": [
    "print(len(test_prediction.Prediction.values))\n",
    "print(len(test_prediction.Prediction.values[test_prediction.Prediction.values > 0]))"
   ]
  },
  {
   "cell_type": "code",
   "execution_count": 15,
   "metadata": {},
   "outputs": [
    {
     "name": "stdout",
     "output_type": "stream",
     "text": [
      "(248,)\n"
     ]
    }
   ],
   "source": [
    "print(w[4][0].shape)"
   ]
  }
 ],
 "metadata": {
  "kernelspec": {
   "display_name": "Python 3",
   "language": "python",
   "name": "python3"
  },
  "language_info": {
   "codemirror_mode": {
    "name": "ipython",
    "version": 3
   },
   "file_extension": ".py",
   "mimetype": "text/x-python",
   "name": "python",
   "nbconvert_exporter": "python",
   "pygments_lexer": "ipython3",
   "version": "3.6.5"
  }
 },
 "nbformat": 4,
 "nbformat_minor": 2
}
